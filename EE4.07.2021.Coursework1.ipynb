{
 "cells": [
  {
   "cell_type": "markdown",
   "metadata": {},
   "source": [
    "# Coursework 1: Finite Fields"
   ]
  },
  {
   "cell_type": "markdown",
   "metadata": {},
   "source": [
    "[v] By tick the checkbox, we hereby declare that this coursework report is our own and autonomous work. We have acknowledged all material and sources used in its preparation, including books, articles, reports, lecture notes, internet software packages, and any other kind of document, electronic or personal communication. This work has not been submitted for any other assessment."
   ]
  },
  {
   "cell_type": "markdown",
   "metadata": {},
   "source": [
    "## 1.1 Integers (30%)"
   ]
  },
  {
   "cell_type": "markdown",
   "metadata": {},
   "source": [
    "### 1.1.1 Check a prime number\n",
    "\n",
    "Write a function `isprime` which checks whether a positive integer is a prime or not. Test your function using at least five different numbers (some primes some not) less than 100. "
   ]
  },
  {
   "cell_type": "code",
   "execution_count": 99,
   "metadata": {},
   "outputs": [
    {
     "name": "stdout",
     "output_type": "stream",
     "text": [
      "13: true\n",
      "48: false\n",
      "53: true\n",
      "97: true\n",
      "73: true\n",
      "63: false\n",
      "3: true\n"
     ]
    }
   ],
   "source": [
    "function isprime(num)\n",
    "    if num == 2 || num == 3\n",
    "        return true\n",
    "    end\n",
    "    if num < 2 || num % 2 == 0\n",
    "        return false\n",
    "    end\n",
    "    if num < 9\n",
    "        return true\n",
    "    end\n",
    "    if num % 3 == 0\n",
    "        return false\n",
    "    end\n",
    "    r = trunc(Int, num ^ 0.5)\n",
    "    f = 5\n",
    "    while f <= r\n",
    "        if num % f == 0\n",
    "            return false\n",
    "        end\n",
    "        if num % (f + 2) == 0\n",
    "            return false\n",
    "        end\n",
    "        f+= 6\n",
    "    end\n",
    "    return true\n",
    "end\n",
    "println(\"13: \", isprime(13)) #true\n",
    "println(\"48: \", isprime(48)) #false\n",
    "println(\"53: \", isprime(53)) #true\n",
    "println(\"97: \", isprime(97)) #true\n",
    "println(\"73: \", isprime(73)) #true\n",
    "println(\"63: \", isprime(63)) #false\n",
    "println(\"3: \", isprime(3)) #true"
   ]
  },
  {
   "cell_type": "markdown",
   "metadata": {},
   "source": [
    "### 1.1.2 Extended Euclidean algorithm for integers\n",
    "\n",
    "1. Get familiar with the function `gcdx` that comes with Julia. \n",
    "2. Mimic the input and output style of `gcdx` and write your own function `my_gcdx` for the same functionality.\n",
    "3. Test your function using at least 5 different instances. "
   ]
  },
  {
   "cell_type": "code",
   "execution_count": 100,
   "metadata": {},
   "outputs": [
    {
     "name": "stdout",
     "output_type": "stream",
     "text": [
      "true\n",
      "true\n",
      "true\n",
      "true\n",
      "true\n"
     ]
    }
   ],
   "source": [
    "function my_gcdx(a, b)\n",
    "    x1, y1, z1 = a, 1, 0\n",
    "    x2, y2, z2 = b, 0, 1\n",
    "    while x2 != 0\n",
    "      q = x1 ÷ x2\n",
    "      x1, x2 = x2, x1 % x2\n",
    "      y1, y2 = y2, y1 - q * y2\n",
    "      z1, z2 = z2, z1 - q * z2\n",
    "    end\n",
    "    return x1, y1, z1\n",
    "  end\n",
    "println(my_gcdx(42, 5) == gcdx(42, 5))  \n",
    "println(my_gcdx(9, 99) == gcdx(9, 99))\n",
    "println(my_gcdx(8, 84) == gcdx(8, 84))\n",
    "println(my_gcdx(2406, 654) == gcdx(2406, 654))\n",
    "println(my_gcdx(508, 8) == gcdx(508, 8))"
   ]
  },
  {
   "cell_type": "markdown",
   "metadata": {},
   "source": [
    "### 1.1.3 Modular arithmetic \n",
    "\n",
    "Let $p=811$, $x=3$, and $n=789$. Compute $x^n \\equiv a ~\\text{mod}~p$. Show the necessary steps for the computations. "
   ]
  },
  {
   "cell_type": "code",
   "execution_count": 101,
   "metadata": {},
   "outputs": [
    {
     "name": "stdout",
     "output_type": "stream",
     "text": [
      "a = 188\n"
     ]
    }
   ],
   "source": [
    "function mod_computation(p, x, n)\n",
    "    a = x\n",
    "    for _ in 2:n # (x ^ n) % p == (x % p * x % p * ...) % p\n",
    "        a = mod(a * x, p)\n",
    "    end\n",
    "    return a\n",
    "end\n",
    "println(\"a = \", mod_computation(811, 3, 789)) # https://www.wolframalpha.com/input/?i=3+%5E+789+mod+811"
   ]
  },
  {
   "cell_type": "markdown",
   "metadata": {},
   "source": [
    "## 1.2 Polynomials (50%)\n",
    "\n",
    "Let $p$ be a prime number. Consider the polynomial ring $\\mathbb{F}_p[x]$. "
   ]
  },
  {
   "cell_type": "markdown",
   "metadata": {},
   "source": [
    "### 1.2.1 Polynomial division\n",
    "\n",
    "Design and write a function `polydiv' which calculates the quotient $q(x)$ and the remainder $r(x)$ from $f(x) / g(x)$ so that \n",
    "1. $f(x) = q(x) g(x) + r(x)$ where $\\text{deg}(r(x)) < \\text{deg}(g(x))$; \n",
    "2. When $r(x) \\ne 0$, $r(x)$ is a monic polynomial; \n",
    "3. Clear documentation to allow other people to know how to input $f(x)$ and $g(x)$. \n",
    "4. Run 5 different tests with simple cases. For example, $p=2$ and $p=3$, $\\text{deg}(f) = 3$ and $\\text{deg}(f) = 4$. "
   ]
  },
  {
   "cell_type": "code",
   "execution_count": 9,
   "metadata": {},
   "outputs": [
    {
     "name": "stdout",
     "output_type": "stream",
     "text": [
      "([4 4], [0 0])    Answer = 4x+4 remainder 0\n",
      "([0 1 0 0], [1 0 0 0])    Answer = x remainder 1\n",
      "([1 1 1 0 0], [0 0 0 0 0])    Answer = x^2+x+1 remainder 0\n",
      "([1 2 0 0], [2 1 0 0])    Answer = 2x+1 remainder x+2\n",
      "([0 2 2 0 0], [0 2 0 0 0])    Answer = 2x^2+2x remainder 2x\n"
     ]
    }
   ],
   "source": [
    "function getDegree(p)\n",
    "    degreeCandidate = -1\n",
    "    for i in 1:(size(p)[2])\n",
    "       if (p[i] != 0)\n",
    "        degreeCandidate = i - 1\n",
    "       end \n",
    "    end\n",
    "    degree = degreeCandidate\n",
    "    return degree\n",
    "end\n",
    "\n",
    "function rightShift(p, shiftAmount)\n",
    "    pInner = copy(p)\n",
    "    for q in 1:shiftAmount\n",
    "        for i in (size(p)[2]):-1:2\n",
    "            pInner[i] = pInner[i-1]\n",
    "        end\n",
    "        pInner[1] = 0\n",
    "    end\n",
    "    return pInner\n",
    "end\n",
    "function getMultInverse(num, p)\n",
    "    numR = convert(Int, num)\n",
    "    pR = convert(Int, p)\n",
    "    return mod(gcdx(numR, pR)[2], p)\n",
    "end\n",
    "function polydiv(f,g,p)\n",
    "    q = Matrix{Int}(undef, 1, size(f)[2])\n",
    "    fill!(q, 0.)\n",
    "    gTemp = rightShift(g, getDegree(f)-getDegree(g))\n",
    "    while(getDegree(f) >= getDegree(g))\n",
    "        gTemp = rightShift(g, getDegree(f)-getDegree(g))\n",
    "        q[(getDegree(f)-getDegree(g))+1] = mod((getMultInverse(gTemp[getDegree(gTemp) + 1], p) * f[(getDegree(f))+1]), p)\n",
    "        gTemp *= q[(getDegree(f)-getDegree(g)) + 1]\n",
    "        f -= gTemp\n",
    "        i = 1\n",
    "        for coeff in f\n",
    "            f[i] = mod(coeff, p)\n",
    "            i = i + 1\n",
    "        end\n",
    "    end\n",
    "    r = f\n",
    "    return (q,r)\n",
    "end\n",
    "\n",
    "#Input polynomial as array, with lowest index representing the coeffecient of lowest degree. [1 2 0 4] = 1 + 2x + 4x^3\n",
    "#Both polynomials must be inputted as arrays of equal length, using coeffecients of zero when needed\n",
    "println(polydiv([3 3], [2 0], 5), \"    Answer = 4x+4 remainder 0\") #3x+3 / 2 in F5\n",
    "println(polydiv([1 0 1 1],[0 1 1 0], 2), \"    Answer = x remainder 1\") #x^3+x^2+1 / x^2+x in F2\n",
    "println(polydiv([1 1 0 1 1],[1 0 1 0 0], 2), \"    Answer = x^2+x+1 remainder 0\") #x^4+x^3+x+1 / X^2+1 in F2\n",
    "println(polydiv([1 2 1 2],[2 0 1 0], 3), \"    Answer = 2x+1 remainder x+2\") #2x^3+x^2+2x+1 / x^2+2 in F3\n",
    "println(polydiv([0 2 2 0 1],[0 1 2 0 0],3), \"    Answer = 2x^2+2x remainder 2x\") #x^4+2x^2+2x / 2x^2+x in F3\n"
   ]
  },
  {
   "cell_type": "markdown",
   "metadata": {},
   "source": [
    "### 1.2.2 Extended Euclidean algorithm for polynomials\n",
    "\n",
    "Design and write a function `gcdx_poly` to compute the GCD of $f(x)$ and $g(x)$, and their Bezout coefficients. Run 5 different tests to demonstrate the correctness of your function."
   ]
  },
  {
   "cell_type": "code",
   "execution_count": 26,
   "metadata": {},
   "outputs": [
    {
     "name": "stdout",
     "output_type": "stream",
     "text": [
      "([1 0 0 0 0], [1.0 3.0 0.0 0.0 0.0], [1.0 0.0 2.0 2.0 0.0])\n",
      "([1 0 0 0], [1.0 0.0 0.0 0.0], [0.0 0.0 2.0 0.0])\n",
      "([1 0 0 0 0], [1.0 0.0 0.0 0.0 0.0], [2.0 1.0 2.0 0.0 0.0])\n",
      "([1 1 0 0], [0.0 0.0 0.0 0.0], [1.0 0.0 0.0 0.0])\n",
      "([3 1 0 0], [3.0 0.0 0.0 0.0], [4.0 4.0 0.0 0.0])\n"
     ]
    }
   ],
   "source": [
    "function poly_multiply(f, g, p)\n",
    "    m = zeros(1, size(f)[2])\n",
    "    for i in 1:getDegree(f)+1\n",
    "        for j in 1:getDegree(g)+1\n",
    "            m[(i+j)-1] = mod(m[(i+j)-1] + f[i]*g[j], p)\n",
    "        end\n",
    "    end\n",
    "    return m    \n",
    "end\n",
    "\n",
    "function gcdx_poly(f, g, p)\n",
    "    x1, y1, z1 = f, zeros(1, size(f)[2]), zeros(1, size(f)[2])\n",
    "    x2, y2, z2 = g, zeros(1, size(f)[2]) , zeros(1, size(f)[2])\n",
    "    y1[1], z2[1] = 1, 1\n",
    "    while x2 != zeros(1, size(x2)[2])\n",
    "        temp = x2  \n",
    "        q, x2 = polydiv(x1, x2, p)\n",
    "        x1 = temp \n",
    "        y1, y2 = y2, y1-poly_multiply(q,y2, p)\n",
    "        z1, z2 = z2, z1-poly_multiply(q,z2, p)\n",
    "        for i in 1:size(y2)[2]\n",
    "            y2[i] = mod(y2[i], p)\n",
    "            z2[i] = mod(z2[i], p)\n",
    "        end\n",
    "    end\n",
    "    divider = getMultInverse(x1[getDegree(x1)+1],p)\n",
    "    for i in 1:length(x1)\n",
    "        x1[i] = mod(divider * x1[i], p)\n",
    "        y1[i] = mod(divider * y1[i], p)\n",
    "        z1[i] = mod(divider * z1[i], p)\n",
    "    end\n",
    "    return x1, y1, z1\n",
    "end\n",
    "\n",
    "#Answers for the gcd is given as a monic polynomial\n",
    "println(gcdx_poly([1 1 1 0 1], [0 1 1 0 0], 5)) #gcdx of x^4+x^2+x+1 and x^2+x in F5. Answer = 1 with Bezout's coeffecients 3x+1 and 2x^3+2x^2+1\n",
    "println(gcdx_poly([1 0 2 1], [2 1 0 0], 3)) #gcdx of x^2+2x^2+1 and x+2 in F3. Answer = 1 with Bezout's coeffecients 1 and 2x^2\n",
    "println(gcdx_poly([0 1 0 2 1],[2 0 1 0 0], 3)) #gcdx of x^4+2x^3+x and x^2+2 in F4. Answer = 1 with Bezout's coeffecients 1 and 2x^2+x+2\n",
    "println(gcdx_poly([0 0 1 1],[1 1 0 0], 2)) #gcdx of x^3+x^2 and x+1 in F2. Answer = x+1 with Bezout's coeffecients 0 and 1\n",
    "println(gcdx_poly([1 1 2 3],[0 2 4 0], 5)) #gcdx of 3x^3+2x^2+x+1 and 4x^2+2x in F5. Answer = x+3 with Bezout's coeffecients 3 and 4x+4\n"
   ]
  },
  {
   "cell_type": "markdown",
   "metadata": {},
   "source": [
    "### 1.2.3 Irreducible polynomial\n",
    "\n",
    "Design and write a function `is_irreducible` to check whether $f(x) \\in \\mathbb{F}_p[x]$ is irreducible or not. Run 5 tests to demonstrate the correctness of your function. "
   ]
  },
  {
   "cell_type": "code",
   "execution_count": 34,
   "metadata": {},
   "outputs": [
    {
     "name": "stdout",
     "output_type": "stream",
     "text": [
      "true\n",
      "false\n",
      "true\n",
      "false\n",
      "true\n"
     ]
    }
   ],
   "source": [
    "function generateAllCombs(coeffRing, data, ringSize, index, numCoeffs, f)\n",
    "    if (index == numCoeffs + 1)\n",
    "        dataIsConstant = true\n",
    "        dataIsSameOrderAsF = true\n",
    "        \n",
    "        for i in 2:numCoeffs\n",
    "           if (data[i] != 0)\n",
    "               dataIsConstant = false  \n",
    "            end\n",
    "        end\n",
    "        if(data[numCoeffs] == 0)\n",
    "            dataIsSameOrderAsF = false\n",
    "        end\n",
    "        if(!dataIsConstant && !dataIsSameOrderAsF)\n",
    "            q, r = polydiv(f, data, ringSize)\n",
    "            zeroMatrix = Matrix{Float64}(undef, 1, numCoeffs)\n",
    "            fill!(zeroMatrix, 0.)\n",
    "            if(r == zeroMatrix)\n",
    "                return false\n",
    "            else\n",
    "               return true \n",
    "            end\n",
    "        else\n",
    "            return true\n",
    "        end\n",
    "    end\n",
    "    \n",
    "    i = 1\n",
    "    irreducible = true\n",
    "    while(i <= ringSize)\n",
    "        data[index] = coeffRing[i]\n",
    "        irreducibleCurrent = generateAllCombs(coeffRing, data, ringSize, index + 1, numCoeffs, f)\n",
    "        irreducible = irreducible && irreducibleCurrent\n",
    "        i = i + 1\n",
    "    end\n",
    "    return irreducible\n",
    "end\n",
    "function is_irreducible(f, p)\n",
    "    degree = getDegree(f)\n",
    "    intRing = Matrix{Int}(undef, 1, p)\n",
    "    for i in 1:p\n",
    "       intRing[i] = i-1 \n",
    "    end\n",
    "    candidateDivisor = Matrix{Int}(undef, 1, degree+1)\n",
    "    return generateAllCombs(intRing, candidateDivisor, p, 1, degree+1, f)\n",
    "end\n",
    "\n",
    "println(is_irreducible([1 1 0 0 1], 2)) #x^4+x+1 in F2\n",
    "println(is_irreducible([1 0 1], 5)) #x^2+1 in F5\n",
    "println(is_irreducible([1 0 1], 3)) #x^2+1 in F3\n",
    "println(is_irreducible([1 2 0 5], 7)) #5x^3+2x+1 in F7\n",
    "println(is_irreducible([1 2 0 3], 7)) #3x^3+2x+1 in F7    "
   ]
  },
  {
   "cell_type": "markdown",
   "metadata": {},
   "source": [
    "## 1.3 Primitive element (20%)"
   ]
  },
  {
   "cell_type": "markdown",
   "metadata": {},
   "source": [
    "### 1.3.1 Find primitive elements \n",
    "\n",
    "Consider the finite field $\\mathbb{F}_p$. Design and write a function `find_primitive` to find all primitive elements in $\\mathbb{F}_p$. Test your function with a prime number $20 < p < 50$. "
   ]
  },
  {
   "cell_type": "code",
   "execution_count": 9,
   "metadata": {},
   "outputs": [
    {
     "data": {
      "text/plain": [
       "22-element Vector{Int64}:\n",
       "  5\n",
       " 10\n",
       " 11\n",
       " 13\n",
       " 15\n",
       " 19\n",
       " 20\n",
       " 22\n",
       " 23\n",
       " 26\n",
       " 29\n",
       " 30\n",
       " 31\n",
       " 33\n",
       " 35\n",
       " 38\n",
       " 39\n",
       " 40\n",
       " 41\n",
       " 43\n",
       " 44\n",
       " 45"
      ]
     },
     "execution_count": 9,
     "metadata": {},
     "output_type": "execute_result"
    }
   ],
   "source": [
    "function find_primitive(p)\n",
    "    primeEls = Int[]\n",
    "    for a in 2:p-1\n",
    "        test = a\n",
    "        for t in 2:p-1\n",
    "            test = mod(test * a, p)\n",
    "            if test == 1\n",
    "                if t == p-1\n",
    "                    append!(primeEls, a)\n",
    "                end\n",
    "                break\n",
    "            end\n",
    "        end\n",
    "    end\n",
    "    return primeEls\n",
    "end\n",
    "\n",
    "find_primitive(47)\n"
   ]
  },
  {
   "cell_type": "markdown",
   "metadata": {},
   "source": [
    "### 1.3.2 Calculate primitive elements\n",
    "\n",
    "Now consider the finite field $\\mathbb{F}_{32}$. Without programming, can you find all the primitive elements in $\\mathbb{F}_{32}$? If so, explain your approach and its rationality. "
   ]
  },
  {
   "cell_type": "markdown",
   "metadata": {},
   "source": [
    "$\\mathbb{F}_{32}$ is a well defined field. As 32 = 2^5, this is a field of 31 non-zero polynomials. There are 30 primitive elements in this finite field. q = 32 and so q-1 = 31. 31 is a prime number which means that for any non-zero polynomial, its order must divide 31. As the only numbers that divide 31 are 1 and 31, all non-zero elements that are not 1 (of which there are 30) must have an order of 31, which makes them a primitive element. So all non-zero polynomials that are not 1 are primitive elements of $\\mathbb{F}_{32}$."
   ]
  },
  {
   "cell_type": "markdown",
   "metadata": {},
   "source": [
    "## Highlight\n",
    "\n",
    "Please list a couple of highlights of your coursework that may impress your markers."
   ]
  },
  {
   "cell_type": "markdown",
   "metadata": {},
   "source": [
    "-Our implementation of inputting polynomials allows for polynomials of any size to be easily entered. \n",
    "\n",
    "-Both implementations of the Extended Euclidean algorithm are memory efficient, without needed to store large vectors of all values used to calculate the Bezout's coefficients. The coefficients are calculated continuously as the algorithm progresses.\n",
    "\n"
   ]
  }
 ],
 "metadata": {
  "kernelspec": {
   "display_name": "Julia 1.6.3",
   "language": "julia",
   "name": "julia-1.6"
  },
  "language_info": {
   "file_extension": ".jl",
   "mimetype": "application/julia",
   "name": "julia",
   "version": "1.6.3"
  }
 },
 "nbformat": 4,
 "nbformat_minor": 2
}
