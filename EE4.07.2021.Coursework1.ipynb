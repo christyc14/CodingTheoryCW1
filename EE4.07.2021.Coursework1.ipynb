{
 "cells": [
  {
   "cell_type": "markdown",
   "metadata": {},
   "source": [
    "# Coursework 1: Finite Fields"
   ]
  },
  {
   "cell_type": "markdown",
   "metadata": {},
   "source": [
    "[] By tick the checkbox, we hereby declare that this coursework report is our own and autonomous work. We have acknowledged all material and sources used in its preparation, including books, articles, reports, lecture notes, internet software packages, and any other kind of document, electronic or personal communication. This work has not been submitted for any other assessment."
   ]
  },
  {
   "cell_type": "markdown",
   "metadata": {},
   "source": [
    "## 1.1 Integers (30%)"
   ]
  },
  {
   "cell_type": "markdown",
   "metadata": {},
   "source": [
    "### 1.1.1 Check a prime number\n",
    "\n",
    "Write a function `isprime` which checks whether a positive integer is a prime or not. Test your function using at least five different numbers (some primes some not) less than 100. "
   ]
  },
  {
   "cell_type": "code",
   "execution_count": null,
   "metadata": {},
   "outputs": [],
   "source": [
    "function isprime(num)\n",
    "    if num == 0 || num == 1\n",
    "        return false\n",
    "    end\n",
    "    for i in 2:num/2\n",
    "        if mod(num,i) == 0\n",
    "            return false\n",
    "        end\n",
    "    end\n",
    "    return true\n",
    "end\n",
    "println(isprime(13))\n",
    "println(isprime(48))\n",
    "println(isprime(53))\n",
    "println(isprime(97))\n",
    "println(isprime(73))\n",
    "println(isprime(63))\n",
    "println(isprime(3))"
   ]
  },
  {
   "cell_type": "markdown",
   "metadata": {},
   "source": [
    "### 1.1.2 Extended Euclidean algorithm for integers\n",
    "\n",
    "1. Get familiar with the function `gcdx` that comes with Julia. \n",
    "2. Mimic the input and output style of `gcdx` and write your own function `my_gcdx` for the same functionality.\n",
    "3. Test your function using at least 5 different instances. "
   ]
  },
  {
   "cell_type": "markdown",
   "metadata": {},
   "source": [
    "### 1.1.3 Modular arithmetic \n",
    "\n",
    "Let $p=811$, $x=3$, and $n=789$. Compute $x^n \\equiv a ~\\text{mod}~p$. Show the necessary steps for the computations. "
   ]
  },
  {
   "cell_type": "markdown",
   "metadata": {},
   "source": [
    "## 1.2 Polynomials (50%)\n",
    "\n",
    "Let $p$ be a prime number. Consider the polynomial ring $\\mathbb{F}_p[x]$. "
   ]
  },
  {
   "cell_type": "markdown",
   "metadata": {},
   "source": [
    "### 1.2.1 Polynomial division\n",
    "\n",
    "Design and write a function `polydiv' which calculates the quotient $q(x)$ and the remainder $r(x)$ from $f(x) / g(x)$ so that \n",
    "1. $f(x) = q(x) g(x) + r(x)$ where $\\text{deg}(r(x)) < \\text{deg}(g(x))$; \n",
    "2. When $r(x) \\ne 0$, $r(x)$ is a monic polynomial; \n",
    "3. Clear documentation to allow other people to know how to input $f(x)$ and $g(x)$. \n",
    "4. Run 5 different tests with simple cases. For example, $p=2$ and $p=3$, $\\text{deg}(f) = 3$ and $\\text{deg}(f) = 4$. "
   ]
  },
  {
   "cell_type": "code",
   "execution_count": 1,
   "metadata": {},
   "outputs": [
    {
     "data": {
      "text/plain": [
       "([4.0 1.0 … 0.0 0.0], [3.0 0.0 … 0.0 0.0])"
      ]
     },
     "execution_count": 1,
     "metadata": {},
     "output_type": "execute_result"
    }
   ],
   "source": [
    "function getDegree(p)\n",
    "    degreeCandidate = 0\n",
    "    for i in 1:(size(p)[2])\n",
    "       if (p[i] != 0)\n",
    "        degreeCandidate = i - 1\n",
    "       end \n",
    "    end\n",
    "    degree = degreeCandidate\n",
    "    return degree\n",
    "end\n",
    "\n",
    "function rightShift(p, shiftAmount)\n",
    "    pInner = copy(p)\n",
    "    for q in 1:shiftAmount\n",
    "        for i in (size(p)[2]):-1:2\n",
    "            pInner[i] = pInner[i-1]\n",
    "        end\n",
    "        pInner[1] = 0\n",
    "    end\n",
    "    return pInner\n",
    "end\n",
    "\n",
    "function polydiv(f,g)\n",
    "    q = Matrix{Float64}(undef, 1, size(f)[2])\n",
    "    fill!(q, 0.)\n",
    "    gTemp = rightShift(g, getDegree(f)-getDegree(g))\n",
    "    while(getDegree(f) >= getDegree(g))\n",
    "        gTemp = rightShift(g, getDegree(f)-getDegree(g))\n",
    "        q[(getDegree(f)-getDegree(g))+1] = f[(getDegree(f))+1] / gTemp[(getDegree(gTemp))+1]\n",
    "        gTemp = gTemp*q[(getDegree(f)-getDegree(g)) + 1]\n",
    "        f = f - gTemp\n",
    "        #println(f)\n",
    "    end\n",
    "    r = f\n",
    "    return (q,r)\n",
    "end\n",
    "\n",
    "polydiv([7.0 5 1 0 0 0], [1.0 1 0 0 0 0])"
   ]
  },
  {
   "cell_type": "markdown",
   "metadata": {},
   "source": [
    "### 1.2.2 Extended Euclidean algorithm for polynomials\n",
    "\n",
    "Design and write a function `gcdx_poly` to compute the GCD of $f(x)$ and $g(x)$, and their Bezout coefficients. Run 5 different tests to demonstrate the correctness of your function."
   ]
  },
  {
   "cell_type": "markdown",
   "metadata": {},
   "source": [
    "### 1.2.3 Irreducible polynomial\n",
    "\n",
    "Design and write a function `is_irreducible` to check whether $f(x) \\in \\mathbb{F}_p[x]$ is irreducible or not. Run 5 tests to demonstrate the correctness of your function. "
   ]
  },
  {
   "cell_type": "markdown",
   "metadata": {},
   "source": [
    "## 1.3 Primitive element (20%)"
   ]
  },
  {
   "cell_type": "markdown",
   "metadata": {},
   "source": [
    "### 1.3.1 Find primitive elements \n",
    "\n",
    "Consider the finite field $\\mathbb{F}_p$. Design and write a function `find_primitive` to find all primitive elements in $\\mathbb{F}_p$. Test your function with a prime number $20 < p < 50$. "
   ]
  },
  {
   "cell_type": "markdown",
   "metadata": {},
   "source": [
    "### 1.3.2 Calculate primitive elements\n",
    "\n",
    "Now consider the finite field $\\mathbb{F}_{32}$. Without programming, can you find all the primitive elements in $\\mathbb{F}_{32}$? If so, explain your approach and its rationality. "
   ]
  },
  {
   "cell_type": "markdown",
   "metadata": {},
   "source": [
    "## Highlight\n",
    "\n",
    "Please list a couple of highlights of your coursework that may impress your markers."
   ]
  }
 ],
 "metadata": {
  "kernelspec": {
   "display_name": "Julia 1.6.3",
   "language": "julia",
   "name": "julia-1.6"
  },
  "language_info": {
   "file_extension": ".jl",
   "mimetype": "application/julia",
   "name": "julia",
   "version": "1.6.3"
  }
 },
 "nbformat": 4,
 "nbformat_minor": 2
}
