{
 "cells": [
  {
   "cell_type": "markdown",
   "metadata": {},
   "source": [
    "# Coursework 1: Finite Fields"
   ]
  },
  {
   "cell_type": "markdown",
   "metadata": {},
   "source": [
    "[v] By tick the checkbox, we hereby declare that this coursework report is our own and autonomous work. We have acknowledged all material and sources used in its preparation, including books, articles, reports, lecture notes, internet software packages, and any other kind of document, electronic or personal communication. This work has not been submitted for any other assessment."
   ]
  },
  {
   "cell_type": "markdown",
   "metadata": {},
   "source": [
    "## 1.1 Integers (30%)"
   ]
  },
  {
   "cell_type": "markdown",
   "metadata": {},
   "source": [
    "### 1.1.1 Check a prime number\n",
    "\n",
    "Write a function `isprime` which checks whether a positive integer is a prime or not. Test your function using at least five different numbers (some primes some not) less than 100. "
   ]
  },
  {
   "cell_type": "code",
   "execution_count": 99,
   "metadata": {},
   "outputs": [
    {
     "name": "stdout",
     "output_type": "stream",
     "text": [
      "13: true\n",
      "48: false\n",
      "53: true\n",
      "97: true\n",
      "73: true\n",
      "63: false\n",
      "3: true\n"
     ]
    }
   ],
   "source": [
    "function isprime(num)\n",
    "    if num == 2 || num == 3\n",
    "        return true\n",
    "    end\n",
    "    if num < 2 || num % 2 == 0\n",
    "        return false\n",
    "    end\n",
    "    if num < 9\n",
    "        return true\n",
    "    end\n",
    "    if num % 3 == 0\n",
    "        return false\n",
    "    end\n",
    "    r = trunc(Int, num ^ 0.5)\n",
    "    f = 5\n",
    "    while f <= r\n",
    "        if num % f == 0\n",
    "            return false\n",
    "        end\n",
    "        if num % (f + 2) == 0\n",
    "            return false\n",
    "        end\n",
    "        f+= 6\n",
    "    end\n",
    "    return true\n",
    "end\n",
    "println(\"13: \", isprime(13)) #true\n",
    "println(\"48: \", isprime(48)) #false\n",
    "println(\"53: \", isprime(53)) #true\n",
    "println(\"97: \", isprime(97)) #true\n",
    "println(\"73: \", isprime(73)) #true\n",
    "println(\"63: \", isprime(63)) #false\n",
    "println(\"3: \", isprime(3)) #true"
   ]
  },
  {
   "cell_type": "markdown",
   "metadata": {},
   "source": [
    "### 1.1.2 Extended Euclidean algorithm for integers\n",
    "\n",
    "1. Get familiar with the function `gcdx` that comes with Julia. \n",
    "2. Mimic the input and output style of `gcdx` and write your own function `my_gcdx` for the same functionality.\n",
    "3. Test your function using at least 5 different instances. "
   ]
  },
  {
   "cell_type": "code",
   "execution_count": 100,
   "metadata": {},
   "outputs": [
    {
     "name": "stdout",
     "output_type": "stream",
     "text": [
      "true\n",
      "true\n",
      "true\n",
      "true\n",
      "true\n"
     ]
    }
   ],
   "source": [
    "function my_gcdx(a, b)\n",
    "    x1, y1, z1 = a, 1, 0\n",
    "    x2, y2, z2 = b, 0, 1\n",
    "    while x2 != 0\n",
    "      q = x1 ÷ x2\n",
    "      x1, x2 = x2, x1 % x2\n",
    "      y1, y2 = y2, y1 - q * y2\n",
    "      z1, z2 = z2, z1 - q * z2\n",
    "    end\n",
    "    return x1, y1, z1\n",
    "  end\n",
    "println(my_gcdx(42, 5) == gcdx(42, 5))  \n",
    "println(my_gcdx(9, 99) == gcdx(9, 99))\n",
    "println(my_gcdx(8, 84) == gcdx(8, 84))\n",
    "println(my_gcdx(2406, 654) == gcdx(2406, 654))\n",
    "println(my_gcdx(508, 8) == gcdx(508, 8))"
   ]
  },
  {
   "cell_type": "markdown",
   "metadata": {},
   "source": [
    "### 1.1.3 Modular arithmetic \n",
    "\n",
    "Let $p=811$, $x=3$, and $n=789$. Compute $x^n \\equiv a ~\\text{mod}~p$. Show the necessary steps for the computations. "
   ]
  },
  {
   "cell_type": "code",
   "execution_count": 101,
   "metadata": {},
   "outputs": [
    {
     "name": "stdout",
     "output_type": "stream",
     "text": [
      "a = 188\n"
     ]
    }
   ],
   "source": [
    "function mod_computation(p, x, n)\n",
    "    a = x\n",
    "    for _ in 2:n # (x ^ n) % p == (x % p * x % p * ...) % p\n",
    "        a = mod(a * x, p)\n",
    "    end\n",
    "    return a\n",
    "end\n",
    "println(\"a = \", mod_computation(811, 3, 789)) # https://www.wolframalpha.com/input/?i=3+%5E+789+mod+811"
   ]
  },
  {
   "cell_type": "markdown",
   "metadata": {},
   "source": [
    "## 1.2 Polynomials (50%)\n",
    "\n",
    "Let $p$ be a prime number. Consider the polynomial ring $\\mathbb{F}_p[x]$. "
   ]
  },
  {
   "cell_type": "markdown",
   "metadata": {},
   "source": [
    "### 1.2.1 Polynomial division\n",
    "\n",
    "Design and write a function `polydiv' which calculates the quotient $q(x)$ and the remainder $r(x)$ from $f(x) / g(x)$ so that \n",
    "1. $f(x) = q(x) g(x) + r(x)$ where $\\text{deg}(r(x)) < \\text{deg}(g(x))$; \n",
    "2. When $r(x) \\ne 0$, $r(x)$ is a monic polynomial; \n",
    "3. Clear documentation to allow other people to know how to input $f(x)$ and $g(x)$. \n",
    "4. Run 5 different tests with simple cases. For example, $p=2$ and $p=3$, $\\text{deg}(f) = 3$ and $\\text{deg}(f) = 4$. "
   ]
  },
  {
   "cell_type": "code",
   "execution_count": 1,
   "metadata": {},
   "outputs": [
    {
     "data": {
      "text/plain": [
       "([4 4], [0 0])"
      ]
     },
     "execution_count": 1,
     "metadata": {},
     "output_type": "execute_result"
    }
   ],
   "source": [
    "function getDegree(p)\n",
    "    degreeCandidate = -1\n",
    "    for i in 1:(size(p)[2])\n",
    "       if (p[i] != 0)\n",
    "        degreeCandidate = i - 1\n",
    "       end \n",
    "    end\n",
    "    degree = degreeCandidate\n",
    "    return degree\n",
    "end\n",
    "\n",
    "function rightShift(p, shiftAmount)\n",
    "    pInner = copy(p)\n",
    "    for q in 1:shiftAmount\n",
    "        for i in (size(p)[2]):-1:2\n",
    "            pInner[i] = pInner[i-1]\n",
    "        end\n",
    "        pInner[1] = 0\n",
    "    end\n",
    "    return pInner\n",
    "end\n",
    "function getMultInverse(num, p)\n",
    "    numR = convert(Int, num)\n",
    "    pR = convert(Int, p)\n",
    "    #print(typeof(numR))\n",
    "    return mod(gcdx(numR, pR)[2], p)\n",
    "end\n",
    "function polydiv(f,g,p)\n",
    "    q = Matrix{Int}(undef, 1, size(f)[2])\n",
    "    fill!(q, 0.)\n",
    "    gTemp = rightShift(g, getDegree(f)-getDegree(g))\n",
    "    while(getDegree(f) >= getDegree(g))\n",
    "        #print(\"f \")\n",
    "        #print(f)\n",
    "        #println(\"\")\n",
    "        #print(\"g \")\n",
    "        #print(g)\n",
    "        #println(\"\")\n",
    "        gTemp = rightShift(g, getDegree(f)-getDegree(g))\n",
    "        #println(gTemp)\n",
    "        #q[(getDegree(f)-getDegree(g))+1] = f[(getDegree(f))+1] / gTemp[(getDegree(gTemp))+1]\n",
    "        q[(getDegree(f)-getDegree(g))+1] = mod((getMultInverse(gTemp[getDegree(gTemp) + 1], p) * f[(getDegree(f))+1]), p)\n",
    "        #println(q)\n",
    "        gTemp *= q[(getDegree(f)-getDegree(g)) + 1]\n",
    "        #println(gTemp)\n",
    "        f -= gTemp\n",
    "        i = 1\n",
    "        for coeff in f\n",
    "           #if (coeff < 0 || coeff >= p)\n",
    "            #println(coeff)\n",
    "            f[i] = mod(coeff, p)\n",
    "            #end\n",
    "            i = i + 1\n",
    "        end\n",
    "        #println(f)\n",
    "    end\n",
    "    r = f\n",
    "    return (q,r)\n",
    "end\n",
    "\n",
    "polydiv([3 3], [2 0], 5)"
   ]
  },
  {
   "cell_type": "markdown",
   "metadata": {},
   "source": [
    "### 1.2.2 Extended Euclidean algorithm for polynomials\n",
    "\n",
    "Design and write a function `gcdx_poly` to compute the GCD of $f(x)$ and $g(x)$, and their Bezout coefficients. Run 5 different tests to demonstrate the correctness of your function."
   ]
  },
  {
   "cell_type": "code",
   "execution_count": 2,
   "metadata": {},
   "outputs": [
    {
     "name": "stdout",
     "output_type": "stream",
     "text": [
      "[4 4 3 0 0 0]\n",
      " = [4 3 0 0 0 0]*[0 1 0 0 0 0] + [4 0 0 0 0 0]\n",
      "------------\n",
      "[4 3 0 0 0 0]\n",
      " = [4 0 0 0 0 0]*[1 2 0 0 0 0] + [0 0 0 0 0 0]\n",
      "------------\n"
     ]
    },
    {
     "data": {
      "text/plain": [
       "1×6 Matrix{Int64}:\n",
       " 4  0  0  0  0  0"
      ]
     },
     "execution_count": 2,
     "metadata": {},
     "output_type": "execute_result"
    }
   ],
   "source": [
    "function gcdx_poly(f,g,p)\n",
    "    q, r = polydiv(f,g,p)\n",
    "    zeroArray = Matrix{Float64}(undef, 1, size(f)[2])\n",
    "    fill!(zeroArray, 0.)\n",
    "    count = 0\n",
    "    while(r != zeroArray)\n",
    "        q, r = polydiv(f,g,p)\n",
    "        println(f)\n",
    "        print(\" = \")\n",
    "        print(g)\n",
    "        print(\"*\")\n",
    "        print(q)\n",
    "        print(\" + \")\n",
    "        print(r)\n",
    "        println(\"\")\n",
    "        println(\"------------\")\n",
    "        if(r == zeroArray)\n",
    "            #println(count)\n",
    "            return g\n",
    "        end\n",
    "        f = copy(g)\n",
    "        g = copy(r)\n",
    "        count = count + 1\n",
    "    end\n",
    "end\n",
    "\n",
    "gcdx_poly([4 4 3 0 0 0], [4 3 0 0 0 0], 5)"
   ]
  },
  {
   "cell_type": "markdown",
   "metadata": {},
   "source": [
    "### 1.2.3 Irreducible polynomial\n",
    "\n",
    "Design and write a function `is_irreducible` to check whether $f(x) \\in \\mathbb{F}_p[x]$ is irreducible or not. Run 5 tests to demonstrate the correctness of your function. "
   ]
  },
  {
   "cell_type": "code",
   "execution_count": 3,
   "metadata": {},
   "outputs": [
    {
     "data": {
      "text/plain": [
       "true"
      ]
     },
     "execution_count": 3,
     "metadata": {},
     "output_type": "execute_result"
    }
   ],
   "source": [
    "globCount = 0\n",
    "\n",
    "function generateAllCombs(coeffRing, data, ringSize, index, numCoeffs, f)\n",
    "    global globCount\n",
    "    if (index == numCoeffs + 1)\n",
    "        globCount = globCount + 1\n",
    "        dataIsConstant = true\n",
    "        dataIsSameOrderAsF = true\n",
    "        \n",
    "        for i in 2:numCoeffs\n",
    "           if (data[i] != 0)\n",
    "               dataIsConstant = false  \n",
    "            end\n",
    "        end\n",
    "        if(data[numCoeffs] == 0)\n",
    "            dataIsSameOrderAsF = false\n",
    "        end\n",
    "        #println(data)\n",
    "        #println(dataIsConstant)\n",
    "        if(!dataIsConstant && !dataIsSameOrderAsF)\n",
    "            q, r = polydiv(f, data, ringSize)\n",
    "            #print(f)\n",
    "            #print(\" / \")\n",
    "            #print(data)\n",
    "            #println(\"\")\n",
    "            #print(\"q: \")\n",
    "            #print(q)\n",
    "            #println(\"\")\n",
    "            #print(\"r: \")\n",
    "            #print(r)\n",
    "            #println(\"\")\n",
    "            #println(\"\")\n",
    "            zeroMatrix = Matrix{Float64}(undef, 1, numCoeffs)\n",
    "            fill!(zeroMatrix, 0.)\n",
    "            if(r == zeroMatrix)\n",
    "                return false\n",
    "            else\n",
    "               return true \n",
    "            end\n",
    "        else\n",
    "            return true\n",
    "        end\n",
    "    end\n",
    "    \n",
    "    i = 1\n",
    "    irreducible = true\n",
    "    while(i <= ringSize)\n",
    "        data[index] = coeffRing[i]\n",
    "        irreducibleCurrent = generateAllCombs(coeffRing, data, ringSize, index + 1, numCoeffs, f)\n",
    "        irreducible = irreducible && irreducibleCurrent\n",
    "        i = i + 1\n",
    "    end\n",
    "    return irreducible\n",
    "end\n",
    "function is_irreducible(f, p)\n",
    "    degree = getDegree(f)\n",
    "    intRing = Matrix{Int}(undef, 1, p)\n",
    "    for i in 1:p\n",
    "       intRing[i] = i-1 \n",
    "    end\n",
    "    #print(intRing)\n",
    "    candidateDivisor = Matrix{Int}(undef, 1, degree+1)\n",
    "    #println(size(candidateDivisor))\n",
    "    #println(degree+1)\n",
    "    generateAllCombs(intRing, candidateDivisor, p, 1, degree+1, f)\n",
    "end\n",
    "\n",
    "arr = [0 1.0 2 3 4 5]\n",
    "data = [0 0 0]\n",
    "\n",
    "is_irreducible([1 0 1], 7)\n",
    "#generateAllCombs(arr, data, 1, 6, 1, 3)\n",
    "#println(globCount)\n",
    "    "
   ]
  },
  {
   "cell_type": "markdown",
   "metadata": {},
   "source": [
    "## 1.3 Primitive element (20%)"
   ]
  },
  {
   "cell_type": "code",
   "execution_count": null,
   "metadata": {},
   "outputs": [],
   "source": []
  },
  {
   "cell_type": "markdown",
   "metadata": {},
   "source": [
    "### 1.3.1 Find primitive elements \n",
    "\n",
    "Consider the finite field $\\mathbb{F}_p$. Design and write a function `find_primitive` to find all primitive elements in $\\mathbb{F}_p$. Test your function with a prime number $20 < p < 50$. "
   ]
  },
  {
   "cell_type": "code",
   "execution_count": 135,
   "metadata": {},
   "outputs": [
    {
     "data": {
      "text/plain": [
       "22-element Vector{Int64}:\n",
       "  5\n",
       " 10\n",
       " 11\n",
       " 13\n",
       " 15\n",
       " 19\n",
       " 20\n",
       " 22\n",
       " 23\n",
       " 26\n",
       " 29\n",
       " 30\n",
       " 31\n",
       " 33\n",
       " 35\n",
       " 38\n",
       " 39\n",
       " 40\n",
       " 41\n",
       " 43\n",
       " 44\n",
       " 45"
      ]
     },
     "execution_count": 135,
     "metadata": {},
     "output_type": "execute_result"
    }
   ],
   "source": [
    "function pow(a,t,p)\n",
    "    returnVal = a\n",
    "    if (t >= 2)\n",
    "        for i in 2:t\n",
    "            returnVal = mod((returnVal * a), p)\n",
    "        end \n",
    "    end\n",
    "    return returnVal\n",
    "end\n",
    "\n",
    "function find_primitive(p)\n",
    "    \n",
    "    primEls = zeros(Int, 0)\n",
    "    order = 0\n",
    "    \n",
    "    for candidatePrimEl in 2:p-1\n",
    "       for t in 1:p-1\n",
    "            #print(\"For \")\n",
    "            #println(candidatePrimEl)\n",
    "            #print(\"t \")\n",
    "            #print(t)\n",
    "            #println(\"\")\n",
    "            #print(pow(candidatePrimEl, t, p))\n",
    "            #println(\"--------\")\n",
    "            if(pow(candidatePrimEl, t, p) == 1)\n",
    "                    order = t\n",
    "                    break\n",
    "            end\n",
    "       end\n",
    "       if (order == p-1)\n",
    "                append!( primEls,candidatePrimEl )\n",
    "       end\n",
    "       order = 0 \n",
    "    end\n",
    "    return primEls\n",
    "end\n",
    "\n",
    "find_primitive(47)"
   ]
  },
  {
   "cell_type": "markdown",
   "metadata": {},
   "source": [
    "### 1.3.2 Calculate primitive elements\n",
    "\n",
    "Now consider the finite field $\\mathbb{F}_{32}$. Without programming, can you find all the primitive elements in $\\mathbb{F}_{32}$? If so, explain your approach and its rationality. "
   ]
  },
  {
   "cell_type": "markdown",
   "metadata": {},
   "source": [
    "## Highlight\n",
    "\n",
    "Please list a couple of highlights of your coursework that may impress your markers."
   ]
  }
 ],
 "metadata": {
  "kernelspec": {
   "display_name": "Julia 1.6.3",
   "language": "julia",
   "name": "julia-1.6"
  },
  "language_info": {
   "file_extension": ".jl",
   "mimetype": "application/julia",
   "name": "julia",
   "version": "1.6.3"
  }
 },
 "nbformat": 4,
 "nbformat_minor": 2
}
